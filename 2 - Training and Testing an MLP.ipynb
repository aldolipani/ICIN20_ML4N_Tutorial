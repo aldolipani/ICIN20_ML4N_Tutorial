{
 "cells": [
  {
   "cell_type": "code",
   "execution_count": 16,
   "outputs": [],
   "source": [
    "!pip -q install torch torchvision\n",
    "!pip -q install torchviz\n",
    "!pip -q install livelossplot"
   ],
   "metadata": {
    "collapsed": false,
    "pycharm": {
     "name": "#%%\n",
     "is_executing": false
    }
   }
  },
  {
   "cell_type": "code",
   "execution_count": 17,
   "metadata": {
    "pycharm": {
     "is_executing": false
    }
   },
   "outputs": [],
   "source": [
    "import pandas as pd\n",
    "import numpy as np\n",
    "\n",
    "import torch\n",
    "import torch.optim as optim\n",
    "import torch.nn as nn\n",
    "import torch.nn.functional as F\n",
    "\n",
    "from torch.utils.data import DataLoader, TensorDataset\n",
    "\n",
    "from typing import List\n",
    "from livelossplot import PlotLosses\n"
   ]
  },
  {
   "cell_type": "code",
   "execution_count": 18,
   "outputs": [],
   "source": [
    "df = pd.read_csv(\"ps.csv\")\n",
    "data = df.to_numpy()"
   ],
   "metadata": {
    "collapsed": false,
    "pycharm": {
     "name": "#%%\n",
     "is_executing": false
    }
   }
  },
  {
   "cell_type": "code",
   "execution_count": 19,
   "outputs": [
    {
     "name": "stdout",
     "text": [
      "(29967, 33)\n",
      "(23973, 33)\n",
      "(2996, 33)\n",
      "(2998, 33)\n"
     ],
     "output_type": "stream"
    }
   ],
   "source": [
    "def train_validation_test_splits(data, train_size, validation_size):\n",
    "    assert(train_size + validation_size < 1.0)\n",
    "    np.random.shuffle(data)\n",
    "    n = int(train_size * len(data))\n",
    "    train, rest = data[:n,:], data[n:,:]\n",
    "    n = int(validation_size * len(data))\n",
    "    validation, test = rest[:n,:], rest[n:,:]\n",
    "    return train, validation, test\n",
    "\n",
    "train, validation, test = train_validation_test_splits(data, 0.8, 0.1)\n",
    "\n",
    "print(data.shape)\n",
    "\n",
    "print(train.shape)\n",
    "print(validation.shape)\n",
    "print(test.shape)"
   ],
   "metadata": {
    "collapsed": false,
    "pycharm": {
     "name": "#%%\n",
     "is_executing": false
    }
   }
  },
  {
   "cell_type": "code",
   "execution_count": 20,
   "outputs": [],
   "source": [
    "def to_one_hot(y):\n",
    "    y = y.reshape(-1).astype(int)\n",
    "    n_ones = np.max(y) + 1\n",
    "    return np.eye(n_ones)[y]\n",
    "\n",
    "train_x, train_y = np.hsplit(train, [train.shape[1] - 1])\n",
    "#train_y = to_one_hot(train_y)\n",
    "train_y = train_y.reshape(-1).astype(int)\n",
    "\n",
    "validation_x, validation_y = np.hsplit(validation, [validation.shape[1] - 1])\n",
    "validation_y = validation_y.reshape(-1).astype(int)\n",
    "\n",
    "test_x, test_y = np.hsplit(test, [test.shape[1] - 1])\n",
    "test_y = test_y.reshape(-1).astype(int)"
   ],
   "metadata": {
    "collapsed": false,
    "pycharm": {
     "name": "#%%\n",
     "is_executing": false
    }
   }
  },
  {
   "cell_type": "code",
   "execution_count": 21,
   "outputs": [],
   "source": [
    "min = train_x.min(axis=0)\n",
    "max = train_x.max(axis=0)\n",
    "\n",
    "train_x = (train_x - min)/(max - min)\n",
    "validation_x = (validation_x - min)/(max - min)\n",
    "test_x = (test_x - min)/(max - min)"
   ],
   "metadata": {
    "collapsed": false,
    "pycharm": {
     "name": "#%%\n",
     "is_executing": false
    }
   }
  },
  {
   "cell_type": "code",
   "execution_count": 22,
   "outputs": [
    {
     "data": {
      "text/plain": "array([[0.61400385, 0.17444892, 0.99939942, ..., 0.3447754 , 0.10227378,\n        0.34732066],\n       [0.05954612, 0.1888257 , 0.99974006, ..., 0.55545655, 0.11787854,\n        0.55953102],\n       [0.72353125, 0.17600177, 0.99957537, ..., 0.39093262, 0.10417025,\n        0.39381291],\n       ...,\n       [0.52966023, 0.17474776, 0.99941219, ..., 0.35894716, 0.10256324,\n        0.36159528],\n       [0.27492888, 0.17520408, 0.9992759 , ..., 0.37113176, 0.10368116,\n        0.37386832],\n       [0.74624713, 0.17578453, 0.99958388, ..., 0.38221317, 0.10375977,\n        0.38503017]])"
     },
     "metadata": {},
     "output_type": "execute_result",
     "execution_count": 22
    }
   ],
   "source": [
    "train_x"
   ],
   "metadata": {
    "collapsed": false,
    "pycharm": {
     "name": "#%%\n",
     "is_executing": false
    }
   }
  },
  {
   "cell_type": "code",
   "execution_count": 23,
   "outputs": [],
   "source": [
    "class MLP(nn.Module):\n",
    "    \n",
    "    def __init__(self, input_size:int=10, hidden:List[int]=[10, 20, 30], output_size:int = 3):\n",
    "        super(MLP, self).__init__()\n",
    "        self.fcs = nn.ModuleList()\n",
    "        output_sizes = hidden + [output_size]\n",
    "        print(output_sizes)\n",
    "        for output_size in output_sizes:\n",
    "            self.fcs.append(nn.Linear(input_size, output_size))\n",
    "            input_size = output_size\n",
    "        \n",
    "    def forward(self, x):\n",
    "        for fc in self.fcs:\n",
    "            y = F.sigmoid(fc(x))\n",
    "            x = y\n",
    "        y = F.softmax(y)\n",
    "        return y\n",
    "        \n",
    "        "
   ],
   "metadata": {
    "collapsed": false,
    "pycharm": {
     "name": "#%%\n",
     "is_executing": false
    }
   }
  },
  {
   "cell_type": "code",
   "execution_count": 24,
   "outputs": [
    {
     "name": "stdout",
     "text": [
      "[10, 3]\n"
     ],
     "output_type": "stream"
    },
    {
     "data": {
      "text/plain": "<generator object Module.parameters at 0x13dda9308>"
     },
     "metadata": {},
     "output_type": "execute_result",
     "execution_count": 24
    }
   ],
   "source": [
    "model = MLP(32, [10], 3)\n",
    "model.parameters()"
   ],
   "metadata": {
    "collapsed": false,
    "pycharm": {
     "name": "#%%\n",
     "is_executing": false
    }
   }
  },
  {
   "cell_type": "code",
   "execution_count": 25,
   "outputs": [],
   "source": [
    "criterion = nn.CrossEntropyLoss()\n",
    "#optimizer = optim.SGD(model.parameters(), lr=0.001, momentum=0.9, weight_decay=0)\n",
    "optimizer = optim.Adam(model.parameters(), lr=0.0001)"
   ],
   "metadata": {
    "collapsed": false,
    "pycharm": {
     "name": "#%%\n",
     "is_executing": false
    }
   }
  },
  {
   "cell_type": "code",
   "execution_count": 26,
   "outputs": [],
   "source": [
    "batch_size = 32\n",
    "\n",
    "train_dataset = TensorDataset(\n",
    "    torch.from_numpy(train_x).float(), \n",
    "    torch.from_numpy(train_y))\n",
    "train_loader = DataLoader(train_dataset, batch_size=batch_size, shuffle=True)\n",
    "\n",
    "validation_dataset = TensorDataset(\n",
    "    torch.from_numpy(validation_x).float(), \n",
    "    torch.from_numpy(validation_y))\n",
    "validation_loader = DataLoader(validation_dataset, batch_size=batch_size, shuffle=False)\n",
    "\n",
    "\n",
    "test_dataset = TensorDataset(\n",
    "    torch.from_numpy(test_x).float(), \n",
    "    torch.from_numpy(test_y))\n",
    "test_loader = DataLoader(test_dataset, batch_size=batch_size, shuffle=False)\n"
   ],
   "metadata": {
    "collapsed": false,
    "pycharm": {
     "name": "#%%\n",
     "is_executing": false
    }
   }
  },
  {
   "cell_type": "code",
   "execution_count": null,
   "outputs": [
    {
     "data": {
      "text/plain": "<Figure size 864x576 with 2 Axes>",
      "image/png": "[encoded data removed]"
     },
     "metadata": {
      "needs_background": "light"
     },
     "output_type": "display_data"
    },
    {
     "name": "stdout",
     "text": [
      "log loss:\n",
      "training   (min:    1.061, max:    1.095, cur:    1.061)\n",
      "validation (min:    1.062, max:    1.090, cur:    1.062)\n",
      "\n",
      "accuracy:\n",
      "training   (min:    0.370, max:    0.512, cur:    0.414)\n",
      "validation (min:    0.405, max:    0.626, cur:    0.405)\n"
     ],
     "output_type": "stream"
    },
    {
     "name": "stderr",
     "text": [
      "/Users/ucaclip/opt/anaconda3/envs/ml4n/lib/python3.6/site-packages/torch/nn/functional.py:1351: UserWarning: nn.functional.sigmoid is deprecated. Use torch.sigmoid instead.\n",
      "  warnings.warn(\"nn.functional.sigmoid is deprecated. Use torch.sigmoid instead.\")\n",
      "/Users/ucaclip/opt/anaconda3/envs/ml4n/lib/python3.6/site-packages/ipykernel_launcher.py:16: UserWarning: Implicit dimension choice for softmax has been deprecated. Change the call to include dim=X as an argument.\n",
      "  app.launch_new_instance()\n"
     ],
     "output_type": "stream"
    }
   ],
   "source": [
    "epochs = 200\n",
    "\n",
    "data_loader = {'train':train_loader, 'validation':validation_loader}\n",
    "\n",
    "liveloss = PlotLosses()\n",
    "for epoch in range(epochs):  # loop over the dataset multiple times\n",
    "    \n",
    "    logs = {}\n",
    "    for phase in ['train', 'validation']:\n",
    "        if phase == 'train':\n",
    "            model.train()\n",
    "        else:\n",
    "            model.eval()\n",
    "\n",
    "        running_loss = 0.0\n",
    "        running_corrects = 0\n",
    "        for i, batch in enumerate(data_loader[phase]):\n",
    "            x, y = batch\n",
    "            \n",
    "            # forward + backward + optimize\n",
    "            y_pred = model(x)\n",
    "            # compute loss\n",
    "            loss = criterion(y_pred, y)\n",
    "            \n",
    "            if phase == 'train':\n",
    "                # reset optimizer\n",
    "                optimizer.zero_grad()\n",
    "                # backward step\n",
    "                loss.backward()\n",
    "                # update weights\n",
    "                optimizer.step()\n",
    "            \n",
    "            # print statistics\n",
    "            _, y_pred = torch.max(y_pred.detach(), 1)\n",
    "            running_loss += loss.detach() * x.size(0)    \n",
    "            running_corrects += torch.sum(y_pred == y)\n",
    "        \n",
    "        prefix = ''\n",
    "        if phase == 'validation':\n",
    "            prefix = 'val_'\n",
    "        \n",
    "        epoch_loss = running_loss / len(data_loader[phase].dataset)\n",
    "        logs[prefix + 'log loss'] = epoch_loss.item()\n",
    "        epoch_acc = running_corrects.float() / len(data_loader[phase].dataset)\n",
    "        logs[prefix + 'accuracy'] = epoch_acc.item()\n",
    "    \n",
    "    liveloss.update(logs)\n",
    "    liveloss.draw()"
   ],
   "metadata": {
    "collapsed": false,
    "pycharm": {
     "name": "#%%\n",
     "is_executing": true
    }
   }
  },
  {
   "cell_type": "code",
   "execution_count": null,
   "outputs": [],
   "source": [
    "model.eval()\n",
    "\n",
    "running_loss = 0.0\n",
    "running_corrects = 0\n",
    "for i, batch in enumerate(test_loader):\n",
    "    x, y = batch\n",
    "    y_pred = model(x)\n",
    "    _, y_pred = torch.max(y_pred.detach(), 1)\n",
    "    running_corrects += torch.sum(y_pred == y)\n",
    "\n",
    "acc = running_corrects.float() / len(data_loader[phase].dataset)\n",
    "print(acc)"
   ],
   "metadata": {
    "collapsed": false,
    "pycharm": {
     "name": "#%%\n",
     "is_executing": true
    }
   }
  },
  {
   "cell_type": "code",
   "execution_count": null,
   "outputs": [],
   "source": [
    "\n"
   ],
   "metadata": {
    "collapsed": false,
    "pycharm": {
     "name": "#%%\n",
     "is_executing": true
    }
   }
  }
 ],
 "metadata": {
  "kernelspec": {
   "display_name": "Python 3",
   "language": "python",
   "name": "python3"
  },
  "language_info": {
   "codemirror_mode": {
    "name": "ipython",
    "version": 3
   },
   "file_extension": ".py",
   "mimetype": "text/x-python",
   "name": "python",
   "nbconvert_exporter": "python",
   "pygments_lexer": "ipython3",
   "version": "3.7.4"
  },
  "pycharm": {
   "stem_cell": {
    "cell_type": "raw",
    "source": [],
    "metadata": {
     "collapsed": false
    }
   }
  }
 },
 "nbformat": 4,
 "nbformat_minor": 4
}