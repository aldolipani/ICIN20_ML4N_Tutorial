{
 "cells": [
  {
   "cell_type": "markdown",
   "source": [
    "# Training and Testing an MLP for Performance Prediction\n",
    "\n",
    "In this notebook you will learn about training and testing a Multi Layer Perceptron (MLP). \n",
    "This will introduction \n",
    "you to (or refresh your knowledge about):\n",
    "1. how to prepare your dataset, i.e., normalization, and performing the training, validation and testing splits; \n",
    "2. how define an MLP, including input size, hidden layers, output layer and activation functions;\n",
    "3. how to train and validate your model by interpreting training and validation loss;\n",
    "4. how to evaluate the trained model on the test set.\n",
    "\n",
    "This notebook is developed using the open source machine learning framework PyTorch, however all machine \n",
    "learning concepts covered in this tutorial are applicable in all other machine learning frameworks. \n",
    "\n",
    "To experiment with this notebook use the button below to open it in Colab.\n",
    "\n",
    "[![Open In Colab](https://colab.research.google.com/assets/colab-badge.svg)](https://colab.research.google.com/github/aldolipani/ICIN20_ML4N_Tutorial/blob/master/2%20-%20Training%20and%20Testing%20an%20MLP.ipynb)\n",
    "\n",
    "Now that you are in Colab, before getting started, let's execute the following code cell full of linux commands \n",
    "to make sure that all required packages and files are available in your workspace."
   ],
   "metadata": {
    "collapsed": false,
    "pycharm": {
     "name": "#%% md\n"
    }
   }
  },
  {
   "cell_type": "code",
   "execution_count": 1,
   "outputs": [
    {
     "name": "stdout",
     "text": [
      "/bin/sh: wget: command not found\r\n"
     ],
     "output_type": "stream"
    }
   ],
   "source": [
    "# these commands install PyTorch, Pandas, and a visualization tool that makes training ML models in a jupyter notebook beautiful!\n",
    "!pip -q install torch torchvision\n",
    "!pip -q install pandas==1.0\n",
    "!pip -q install livelossplot\n",
    "\n",
    "# this downloads the dataset\n",
    "!wget https://raw.githubusercontent.com/aldolipani/ICIN20_ML4N_Tutorial/master/ps.csv"
   ],
   "metadata": {
    "collapsed": false,
    "pycharm": {
     "name": "#%%\n",
     "is_executing": false
    }
   }
  },
  {
   "cell_type": "markdown",
   "source": [
    "This will import all we need."
   ],
   "metadata": {
    "collapsed": false,
    "pycharm": {
     "name": "#%% md\n"
    }
   }
  },
  {
   "cell_type": "code",
   "execution_count": 2,
   "metadata": {
    "pycharm": {
     "is_executing": false
    }
   },
   "outputs": [],
   "source": [
    "import pandas as pd\n",
    "import numpy as np\n",
    "\n",
    "import torch\n",
    "import torch.optim as optim\n",
    "import torch.nn as nn\n",
    "import torch.nn.functional as F\n",
    "from torch.utils.data import DataLoader, TensorDataset\n",
    "\n",
    "from livelossplot import PlotLosses\n",
    "\n",
    "from typing import List"
   ]
  },
  {
   "cell_type": "markdown",
   "source": [
    "## Loading the Dataset\n",
    "\n",
    "In this notebook we will focus on the dataset generated using TODO"
   ],
   "metadata": {
    "collapsed": false,
    "pycharm": {
     "name": "#%% md\n"
    }
   }
  },
  {
   "cell_type": "code",
   "execution_count": 39,
   "outputs": [],
   "source": [
    "df = pd.read_csv('ps.csv')\n",
    "del df['count']\n",
    "del df['ref-cycles']\n",
    "del df['task-clock']\n",
    "del df['minor-faults']\n",
    "\n",
    "data = df.to_numpy()"
   ],
   "metadata": {
    "collapsed": false,
    "pycharm": {
     "name": "#%%\n",
     "is_executing": false
    }
   }
  },
  {
   "cell_type": "markdown",
   "source": [
    "## Training, Validation and Test Sets\n"
   ],
   "metadata": {
    "collapsed": false,
    "pycharm": {
     "name": "#%% md\n"
    }
   }
  },
  {
   "cell_type": "code",
   "execution_count": 40,
   "outputs": [
    {
     "name": "stdout",
     "text": [
      "The number of examples in the original dataset is 29967\n",
      "The training-set has 23973 examples\n",
      "The validation-set has 2996 exampels\n",
      "The test-set has 2998 examples\n"
     ],
     "output_type": "stream"
    }
   ],
   "source": [
    "def train_validation_test_splits(data, train_size, validation_size):\n",
    "    assert(train_size + validation_size < 1.0)\n",
    "    # shuffling of the dataset\n",
    "    np.random.shuffle(data)\n",
    "    # extract the training portion\n",
    "    n = int(train_size * len(data))\n",
    "    train, rest = data[:n,:], data[n:,:]\n",
    "    # from the remaining examples, we extract the validation and test portions\n",
    "    n = int(validation_size * len(data))\n",
    "    validation, test = rest[:n,:], rest[n:,:]\n",
    "    return train, validation, test\n",
    "\n",
    "train, validation, test = train_validation_test_splits(data, 0.8, 0.1)\n",
    "\n",
    "print('The number of examples in the original dataset is ' + str(data.shape[0]))\n",
    "\n",
    "print('The training-set has ' + str(train.shape[0]) + ' examples')\n",
    "print('The validation-set has ' + str(validation.shape[0]) + ' exampels')\n",
    "print('The test-set has ' + str(test.shape[0]) + ' examples')"
   ],
   "metadata": {
    "collapsed": false,
    "pycharm": {
     "name": "#%%\n",
     "is_executing": false
    }
   }
  },
  {
   "cell_type": "markdown",
   "source": [
    "At this point we have our datasets "
   ],
   "metadata": {
    "collapsed": false,
    "pycharm": {
     "name": "#%% md\n"
    }
   }
  },
  {
   "cell_type": "code",
   "execution_count": 41,
   "outputs": [],
   "source": [
    "train_x, train_y = np.hsplit(train, [train.shape[1] - 1])\n",
    "train_y = train_y.reshape(-1).astype(int)\n",
    "\n",
    "validation_x, validation_y = np.hsplit(validation, [validation.shape[1] - 1])\n",
    "validation_y = validation_y.reshape(-1).astype(int)\n",
    "\n",
    "test_x, test_y = np.hsplit(test, [test.shape[1] - 1])\n",
    "test_y = test_y.reshape(-1).astype(int)"
   ],
   "metadata": {
    "collapsed": false,
    "pycharm": {
     "name": "#%%\n",
     "is_executing": false
    }
   }
  },
  {
   "cell_type": "code",
   "execution_count": 42,
   "outputs": [],
   "source": [
    "min = train_x.min(axis=0)\n",
    "max = train_x.max(axis=0)\n",
    "\n",
    "train_x = (train_x - min)/(max - min)\n",
    "validation_x = (validation_x - min)/(max - min)\n",
    "test_x = (test_x - min)/(max - min)"
   ],
   "metadata": {
    "collapsed": false,
    "pycharm": {
     "name": "#%%\n",
     "is_executing": false
    }
   }
  },
  {
   "cell_type": "code",
   "execution_count": 43,
   "outputs": [],
   "source": [
    "#train_x"
   ],
   "metadata": {
    "collapsed": false,
    "pycharm": {
     "name": "#%%\n",
     "is_executing": false
    }
   }
  },
  {
   "cell_type": "code",
   "execution_count": 44,
   "outputs": [],
   "source": [
    "class MLP(nn.Module):\n",
    "    \n",
    "    def __init__(self, input_size:int=10, hidden:List[int]=[10, 20, 30], output_size:int = 3):\n",
    "        super(MLP, self).__init__()\n",
    "        self.fcs = nn.ModuleList()\n",
    "        output_sizes = hidden + [output_size]\n",
    "        print(output_sizes)\n",
    "        for output_size in output_sizes:\n",
    "            self.fcs.append(nn.Linear(input_size, output_size))\n",
    "            input_size = output_size\n",
    "        \n",
    "    def forward(self, x):\n",
    "        for fc in self.fcs:\n",
    "            y = F.sigmoid(fc(x))\n",
    "            x = y\n",
    "        y = F.softmax(y)\n",
    "        return y\n",
    "        \n",
    "        "
   ],
   "metadata": {
    "collapsed": false,
    "pycharm": {
     "name": "#%%\n",
     "is_executing": false
    }
   }
  },
  {
   "cell_type": "code",
   "execution_count": 45,
   "outputs": [
    {
     "name": "stdout",
     "text": [
      "[10, 3]\n"
     ],
     "output_type": "stream"
    },
    {
     "data": {
      "text/plain": "<generator object Module.parameters at 0x1343bcc50>"
     },
     "metadata": {},
     "output_type": "execute_result",
     "execution_count": 45
    }
   ],
   "source": [
    "model = MLP(28, [10], 3)\n",
    "model = model.double()\n",
    "model.parameters()"
   ],
   "metadata": {
    "collapsed": false,
    "pycharm": {
     "name": "#%%\n",
     "is_executing": false
    }
   }
  },
  {
   "cell_type": "code",
   "execution_count": 46,
   "outputs": [],
   "source": [
    "criterion = nn.CrossEntropyLoss()\n",
    "#optimizer = optim.SGD(model.parameters(), lr=0.001, momentum=0.9, weight_decay=0)\n",
    "optimizer = optim.Adam(model.parameters(), lr=0.0001)"
   ],
   "metadata": {
    "collapsed": false,
    "pycharm": {
     "name": "#%%\n",
     "is_executing": false
    }
   }
  },
  {
   "cell_type": "code",
   "execution_count": 47,
   "outputs": [],
   "source": [
    "batch_size = 32\n",
    "\n",
    "train_dataset = TensorDataset(\n",
    "    torch.from_numpy(train_x).double(), \n",
    "    torch.from_numpy(train_y))\n",
    "train_loader = DataLoader(train_dataset, batch_size=batch_size, shuffle=True)\n",
    "\n",
    "validation_dataset = TensorDataset(\n",
    "    torch.from_numpy(validation_x).double(), \n",
    "    torch.from_numpy(validation_y))\n",
    "validation_loader = DataLoader(validation_dataset, batch_size=batch_size, shuffle=False)\n",
    "\n",
    "\n",
    "test_dataset = TensorDataset(\n",
    "    torch.from_numpy(test_x).double(), \n",
    "    torch.from_numpy(test_y))\n",
    "test_loader = DataLoader(test_dataset, batch_size=batch_size, shuffle=False)"
   ],
   "metadata": {
    "collapsed": false,
    "pycharm": {
     "name": "#%%\n",
     "is_executing": false
    }
   }
  },
  {
   "cell_type": "code",
   "execution_count": 48,
   "outputs": [],
   "source": [
    "liveloss = PlotLosses()"
   ],
   "metadata": {
    "collapsed": false,
    "pycharm": {
     "name": "#%%\n",
     "is_executing": false
    }
   }
  },
  {
   "cell_type": "code",
   "execution_count": 49,
   "outputs": [
    {
     "data": {
      "text/plain": "<Figure size 864x576 with 2 Axes>",
      "image/png": "[encoded data removed]"
     },
     "metadata": {
      "needs_background": "light"
     },
     "output_type": "display_data"
    },
    {
     "name": "stdout",
     "text": [
      "log loss:\n",
      "training   (min:    1.064, max:    1.087, cur:    1.064)\n",
      "validation (min:    1.064, max:    1.081, cur:    1.064)\n",
      "\n",
      "accuracy:\n",
      "training   (min:    0.407, max:    0.413, cur:    0.413)\n",
      "validation (min:    0.409, max:    0.418, cur:    0.409)\n"
     ],
     "output_type": "stream"
    }
   ],
   "source": [
    "epochs = 100\n",
    "\n",
    "data_loader = {'train':train_loader, 'validation':validation_loader}\n",
    "\n",
    "for epoch in range(epochs):  # loop over the dataset multiple times\n",
    "    \n",
    "    logs = {}\n",
    "    for phase in ['train', 'validation']:\n",
    "        if phase == 'train':\n",
    "            model.train()\n",
    "        else:\n",
    "            model.eval()\n",
    "\n",
    "        running_loss = 0.0\n",
    "        running_corrects = 0\n",
    "        for i, batch in enumerate(data_loader[phase]):\n",
    "            x, y = batch\n",
    "            \n",
    "            # forward + backward + optimize\n",
    "            y_pred = model(x)\n",
    "            # compute loss\n",
    "            loss = criterion(y_pred, y)\n",
    "            \n",
    "            if phase == 'train':\n",
    "                # reset optimizer\n",
    "                optimizer.zero_grad()\n",
    "                # backward step\n",
    "                loss.backward()\n",
    "                # update weights\n",
    "                optimizer.step()\n",
    "            \n",
    "            # print statistics\n",
    "            _, y_pred = torch.max(y_pred.detach(), 1)\n",
    "            running_loss += loss.detach() * x.size(0)    \n",
    "            running_corrects += torch.sum(y_pred == y)\n",
    "        \n",
    "        prefix = ''\n",
    "        if phase == 'validation':\n",
    "            prefix = 'val_'\n",
    "        \n",
    "        epoch_loss = running_loss / len(data_loader[phase].dataset)\n",
    "        logs[prefix + 'log loss'] = epoch_loss.item()\n",
    "        epoch_acc = running_corrects.float() / len(data_loader[phase].dataset)\n",
    "        logs[prefix + 'accuracy'] = epoch_acc.item()\n",
    "    \n",
    "    liveloss.update(logs)\n",
    "    liveloss.draw()"
   ],
   "metadata": {
    "collapsed": false,
    "pycharm": {
     "name": "#%%\n",
     "is_executing": false
    }
   }
  },
  {
   "cell_type": "code",
   "execution_count": 46,
   "outputs": [
    {
     "name": "stdout",
     "text": [
      "tensor(0.7086)\n"
     ],
     "output_type": "stream"
    },
    {
     "name": "stderr",
     "text": [
      "/Users/ucaclip/opt/anaconda3/envs/ml4n/lib/python3.6/site-packages/torch/nn/functional.py:1351: UserWarning: nn.functional.sigmoid is deprecated. Use torch.sigmoid instead.\n",
      "  warnings.warn(\"nn.functional.sigmoid is deprecated. Use torch.sigmoid instead.\")\n",
      "/Users/ucaclip/opt/anaconda3/envs/ml4n/lib/python3.6/site-packages/ipykernel_launcher.py:16: UserWarning: Implicit dimension choice for softmax has been deprecated. Change the call to include dim=X as an argument.\n",
      "  app.launch_new_instance()\n"
     ],
     "output_type": "stream"
    }
   ],
   "source": [
    "model.eval()\n",
    "\n",
    "running_loss = 0.0\n",
    "running_corrects = 0\n",
    "for i, batch in enumerate(test_loader):\n",
    "    x, y = batch\n",
    "    y_pred = model(x)\n",
    "    _, y_pred = torch.max(y_pred.detach(), 1)\n",
    "    running_corrects += torch.sum(y_pred == y)\n",
    "\n",
    "acc = running_corrects.float() / len(data_loader[phase].dataset)\n",
    "print(acc)"
   ],
   "metadata": {
    "collapsed": false,
    "pycharm": {
     "name": "#%%\n",
     "is_executing": false
    }
   }
  },
  {
   "cell_type": "code",
   "execution_count": 28,
   "outputs": [],
   "source": [
    "\n"
   ],
   "metadata": {
    "collapsed": false,
    "pycharm": {
     "name": "#%%\n",
     "is_executing": false
    }
   }
  }
 ],
 "metadata": {
  "kernelspec": {
   "display_name": "Python 3",
   "language": "python",
   "name": "python3"
  },
  "language_info": {
   "codemirror_mode": {
    "name": "ipython",
    "version": 3
   },
   "file_extension": ".py",
   "mimetype": "text/x-python",
   "name": "python",
   "nbconvert_exporter": "python",
   "pygments_lexer": "ipython3",
   "version": "3.7.4"
  },
  "pycharm": {
   "stem_cell": {
    "cell_type": "raw",
    "source": [],
    "metadata": {
     "collapsed": false
    }
   }
  }
 },
 "nbformat": 4,
 "nbformat_minor": 4
}