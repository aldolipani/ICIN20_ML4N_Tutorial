{
 "cells": [
  {
   "cell_type": "code",
   "execution_count": null,
   "outputs": [],
   "source": [],
   "metadata": {
    "collapsed": false,
    "pycharm": {
     "name": "#%%\n"
    }
   }
  },
  {
   "cell_type": "markdown",
   "source": [
    "# CNN, LSTM, and Transformers\n",
    "\n",
    "In this notebook you will learn about training and testing a Multi Layer Perceptron (MLP). \n",
    "This will introduction \n",
    "you to (or refresh your knowledge about):\n",
    "1. how to prepare your dataset, i.e., normalization, and performing the training, validation and testing splits; \n",
    "2. how define an MLP, including input size, hidden layers, output layer and activation functions;\n",
    "3. how to train and validate your model by interpreting training and validation loss;\n",
    "4. how to evaluate the trained model on the test set.\n",
    "\n",
    "This notebook is developed using the open source machine learning framework PyTorch, however all machine \n",
    "learning concepts covered in this tutorial are applicable in all other machine learning frameworks. \n",
    "\n",
    "To experiment with this notebook use the button below to open it in Colab.\n",
    "\n",
    "[![Open In Colab](https://colab.research.google.com/assets/colab-badge.svg)](https://colab.research.google.com/github/aldolipani/ICIN20_ML4N_Tutorial/blob/master/)\n",
    "\n",
    "Now that you are in Colab, before getting started, let's execute the following code cell full of linux commands \n",
    "to make sure that all required packages and files are available in your workspace."
   ],
   "metadata": {
    "collapsed": false
   }
  },
  {
   "cell_type": "code",
   "execution_count": null,
   "outputs": [],
   "source": [
    "# these commands install PyTorch, Pandas, and a visualization tool that makes training ML models in a jupyter notebook beautiful!\n",
    "!pip -q install torch torchvision\n",
    "!pip -q install pandas==1.0\n",
    "!pip -q install livelossplot\n",
    "\n",
    "# this downloads the dataset\n",
    "!wget https://raw.githubusercontent.com/aldolipani/ICIN20_ML4N_Tutorial/master/ps.csv"
   ],
   "metadata": {
    "collapsed": false,
    "pycharm": {
     "name": "#%%\n"
    }
   }
  },
  {
   "cell_type": "markdown",
   "source": [
    "This will import all we need."
   ],
   "metadata": {
    "collapsed": false
   }
  },
  {
   "cell_type": "code",
   "execution_count": 9,
   "outputs": [],
   "source": [
    "import pandas as pd\n",
    "import numpy as np\n",
    "\n",
    "import torch\n",
    "import torch.optim as optim\n",
    "import torch.nn as nn\n",
    "import torch.nn.functional as F\n",
    "from torch.utils.data import DataLoader, TensorDataset\n",
    "\n",
    "from livelossplot import PlotLosses\n",
    "\n",
    "from typing import List"
   ],
   "metadata": {
    "collapsed": false,
    "pycharm": {
     "name": "#%%\n",
     "is_executing": false
    }
   }
  },
  {
   "cell_type": "markdown",
   "source": [
    "## Loading the Dataset\n",
    "\n",
    "In this notebook we will focus on the dataset generated using TODO"
   ],
   "metadata": {
    "collapsed": false
   }
  },
  {
   "cell_type": "code",
   "execution_count": 10,
   "outputs": [],
   "source": [
    "df = pd.read_csv('ps.csv')\n",
    "data_init = df.to_numpy()\n",
    "\n",
    "df = pd.read_csv('pcpDC1.csv')\n",
    "data = df.to_numpy()"
   ],
   "metadata": {
    "collapsed": false,
    "pycharm": {
     "name": "#%%\n",
     "is_executing": false
    }
   }
  },
  {
   "cell_type": "markdown",
   "source": [
    "## Training, Validation and Test Sets\n"
   ],
   "metadata": {
    "collapsed": false
   }
  },
  {
   "cell_type": "code",
   "execution_count": 11,
   "outputs": [
    {
     "name": "stdout",
     "text": [
      "The number of examples in the original dataset is 29450\n",
      "The training-set has 23560 examples\n",
      "The validation-set has 2945 exampels\n",
      "The test-set has 2945 examples\n"
     ],
     "output_type": "stream"
    }
   ],
   "source": [
    "def train_validation_test_splits(data, train_size, validation_size):\n",
    "    assert(train_size + validation_size < 1.0)\n",
    "    # shuffling of the dataset\n",
    "    # extract the training portion\n",
    "    n = int(train_size * len(data))\n",
    "    train, rest = data[:n,:], data[n:,:]\n",
    "    # from the remaining examples, we extract the validation and test portions\n",
    "    n = int(validation_size * len(data))\n",
    "    validation, test = rest[:n,:], rest[n:,:]\n",
    "    return train, validation, test\n",
    "\n",
    "train_init = data_init\n",
    "train, validation, test = train_validation_test_splits(data, 0.8, 0.1)\n",
    "\n",
    "print('The number of examples in the original dataset is ' + str(data.shape[0]))\n",
    "\n",
    "print('The training-set has ' + str(train.shape[0]) + ' examples')\n",
    "print('The validation-set has ' + str(validation.shape[0]) + ' exampels')\n",
    "print('The test-set has ' + str(test.shape[0]) + ' examples')"
   ],
   "metadata": {
    "collapsed": false,
    "pycharm": {
     "name": "#%%\n",
     "is_executing": false
    }
   }
  },
  {
   "cell_type": "markdown",
   "source": [
    "At this point we have our datasets "
   ],
   "metadata": {
    "collapsed": false
   }
  },
  {
   "cell_type": "code",
   "execution_count": 12,
   "outputs": [],
   "source": [
    "train_init_x, train_init_y = np.hsplit(train_init, [train_init.shape[1] - 1])\n",
    "train_init_y = train_init_y.reshape(-1).astype(int)\n",
    "\n",
    "train_x, train_y = np.hsplit(train, [train.shape[1] - 1])\n",
    "train_y = train_y.reshape(-1).astype(int)\n",
    "\n",
    "validation_x, validation_y = np.hsplit(validation, [validation.shape[1] - 1])\n",
    "validation_y = validation_y.reshape(-1).astype(int)\n",
    "\n",
    "test_x, test_y = np.hsplit(test, [test.shape[1] - 1])\n",
    "test_y = test_y.reshape(-1).astype(int)"
   ],
   "metadata": {
    "collapsed": false,
    "pycharm": {
     "name": "#%%\n",
     "is_executing": false
    }
   }
  },
  {
   "cell_type": "code",
   "execution_count": 13,
   "outputs": [],
   "source": [
    "min = train_init_x.min(axis=0)\n",
    "max = train_init_x.max(axis=0)\n",
    "\n",
    "train_init_x = (train_init_x - min)/(max - min)\n",
    "train_x = (train_x - min)/(max - min)\n",
    "validation_x = (validation_x - min)/(max - min)\n",
    "test_x = (test_x - min)/(max - min)"
   ],
   "metadata": {
    "collapsed": false,
    "pycharm": {
     "name": "#%%\n",
     "is_executing": false
    }
   }
  },
  {
   "cell_type": "code",
   "execution_count": 14,
   "outputs": [],
   "source": [
    "sequence_length = 20\n",
    "\n",
    "def extract_sequences(x, y, length, stride = 10):\n",
    "    res_x = []\n",
    "    res_y = []\n",
    "    for i in range(0, len(x) - length, stride):\n",
    "        res_x.append(x[i:(i+length),:].T)\n",
    "        res_y.append(y[i+length-1])\n",
    "    res_x = np.array(res_x)\n",
    "    res_y = np.array(res_y)\n",
    "    return res_x, res_y\n",
    "\n",
    "train_init_x, train_init_y = extract_sequences(train_init_x, train_init_y, sequence_length)\n",
    "\n",
    "train_x, train_y = extract_sequences(train_x, train_y, sequence_length)\n",
    "validation_x, validation_y = extract_sequences(validation_x, validation_y, sequence_length)\n",
    "test_x, test_y = extract_sequences(test_x, test_y, sequence_length)"
   ],
   "metadata": {
    "collapsed": false,
    "pycharm": {
     "name": "#%%\n",
     "is_executing": false
    }
   }
  },
  {
   "cell_type": "markdown",
   "source": [
    "(50 - 1  * (3 - 1) - 1)/1 + 1 = 48"
   ],
   "metadata": {
    "collapsed": false
   }
  },
  {
   "cell_type": "code",
   "execution_count": 15,
   "outputs": [],
   "source": [
    "class CNN(nn.Module):\n",
    "        \n",
    "    def __init__(self, input_size:int=32, sequence_length=50, output_size:int = 3):\n",
    "        super(CNN, self).__init__()\n",
    "        \n",
    "        self.conv1 = nn.Conv1d(in_channels=input_size, out_channels=16, kernel_size=3)\n",
    "        l_out = CNN.get_l_out(sequence_length, self.conv1.kernel_size[0])\n",
    "        \n",
    "        self.pool = nn.MaxPool1d(2)\n",
    "        l_out = int(l_out / 2)\n",
    "        \n",
    "        conv2_out_channels = 8\n",
    "        self.conv2 = nn.Conv1d(16, conv2_out_channels, kernel_size=3)\n",
    "        l_out = CNN.get_l_out(l_out, self.conv2.kernel_size[0])\n",
    "        \n",
    "        l_out = int(l_out / 2)\n",
    "        \n",
    "        self.conv_out = l_out * conv2_out_channels\n",
    "        print(self.conv_out)\n",
    "        \n",
    "        self.fc1 = nn.Linear(self.conv_out, 24)\n",
    "        self.fc2 = nn.Linear(24, 10)\n",
    "        self.fc3 = nn.Linear(10, output_size)\n",
    "    \n",
    "    @staticmethod\n",
    "    def get_l_out(l_in, kernel_size, padding=0, dilation=1, stride=1):\n",
    "        return int(np.floor((l_in + 2 * padding - dilation * (kernel_size - 1) - 1)/stride + 1))\n",
    "    \n",
    "    def forward(self, x):\n",
    "        y = torch.sigmoid(self.pool(self.conv1(x)))\n",
    "        y = torch.sigmoid(self.pool(self.conv2(y)))\n",
    "        y = y.view(-1, self.conv_out)\n",
    "        y = torch.sigmoid(self.fc1(y))\n",
    "        y = torch.sigmoid(self.fc2(y))\n",
    "        y = F.softmax(self.fc3(y))\n",
    "        return y"
   ],
   "metadata": {
    "collapsed": false,
    "pycharm": {
     "name": "#%%\n",
     "is_executing": false
    }
   }
  },
  {
   "cell_type": "code",
   "execution_count": 35,
   "outputs": [
    {
     "name": "stdout",
     "text": [
      "24\n"
     ],
     "output_type": "stream"
    },
    {
     "data": {
      "text/plain": "<generator object Module.parameters at 0x132b50e08>"
     },
     "metadata": {},
     "output_type": "execute_result",
     "execution_count": 35
    }
   ],
   "source": [
    "model = CNN(32, sequence_length, 3)\n",
    "#model = LSTM(32, sequence_length, 3)\n",
    "model = model.double()\n",
    "model.parameters()"
   ],
   "metadata": {
    "collapsed": false,
    "pycharm": {
     "name": "#%%\n",
     "is_executing": false
    }
   }
  },
  {
   "cell_type": "code",
   "execution_count": 36,
   "outputs": [],
   "source": [
    "criterion = nn.CrossEntropyLoss()\n",
    "#optimizer = optim.SGD(model.parameters(), lr=0.001, momentum=0.9, weight_decay=0)\n",
    "optimizer = optim.Adam(model.parameters(), lr=0.001)"
   ],
   "metadata": {
    "collapsed": false,
    "pycharm": {
     "name": "#%%\n",
     "is_executing": false
    }
   }
  },
  {
   "cell_type": "code",
   "execution_count": 37,
   "outputs": [],
   "source": [
    "batch_size = 32\n",
    "\n",
    "train_init_dataset = TensorDataset(\n",
    "    torch.from_numpy(train_init_x).double(), \n",
    "    torch.from_numpy(train_init_y))\n",
    "train_init_loader = DataLoader(train_init_dataset, batch_size=batch_size, shuffle=True)\n",
    "\n",
    "train_dataset = TensorDataset(\n",
    "    torch.from_numpy(train_x).double(), \n",
    "    torch.from_numpy(train_y))\n",
    "train_loader = DataLoader(train_dataset, batch_size=batch_size, shuffle=True)\n",
    "\n",
    "validation_dataset = TensorDataset(\n",
    "    torch.from_numpy(validation_x).double(), \n",
    "    torch.from_numpy(validation_y))\n",
    "validation_loader = DataLoader(validation_dataset, batch_size=batch_size, shuffle=False)\n",
    "\n",
    "test_dataset = TensorDataset(\n",
    "    torch.from_numpy(test_x).double(), \n",
    "    torch.from_numpy(test_y))\n",
    "test_loader = DataLoader(test_dataset, batch_size=batch_size, shuffle=False)"
   ],
   "metadata": {
    "collapsed": false,
    "pycharm": {
     "name": "#%%\n",
     "is_executing": false
    }
   }
  },
  {
   "cell_type": "code",
   "execution_count": 38,
   "outputs": [],
   "source": [
    "liveloss = PlotLosses()"
   ],
   "metadata": {
    "collapsed": false,
    "pycharm": {
     "name": "#%%\n",
     "is_executing": false
    }
   }
  },
  {
   "cell_type": "code",
   "execution_count": 39,
   "outputs": [
    {
     "data": {
      "text/plain": "<Figure size 864x576 with 2 Axes>",
      "image/png": "[encoded data removed]"
     },
     "metadata": {
      "needs_background": "light"
     },
     "output_type": "display_data"
    },
    {
     "name": "stdout",
     "text": [
      "log loss:\n",
      "training   (min:    0.838, max:    1.088, cur:    0.838)\n",
      "\n",
      "accuracy:\n",
      "training   (min:    0.375, max:    0.718, cur:    0.715)\n"
     ],
     "output_type": "stream"
    }
   ],
   "source": [
    "epochs = 50\n",
    "\n",
    "for epoch in range(epochs):  # loop over the dataset multiple times\n",
    "    \n",
    "    logs = {}\n",
    "    model.train()\n",
    "    \n",
    "    running_loss = 0.0\n",
    "    running_corrects = 0\n",
    "    for i, batch in enumerate(train_init_loader):\n",
    "        x, y = batch\n",
    "        # forward + backward + optimize\n",
    "        y_pred = model(x)\n",
    "        # compute loss\n",
    "        loss = criterion(y_pred, y)\n",
    "        \n",
    "        # reset optimizer\n",
    "        optimizer.zero_grad()\n",
    "        # backward step\n",
    "        loss.backward()\n",
    "        # update weights\n",
    "        optimizer.step()\n",
    "        \n",
    "        # print statistics\n",
    "        _, y_pred = torch.max(y_pred.detach(), 1)\n",
    "        running_loss += loss.detach() * x.size(0)\n",
    "        running_corrects += torch.sum(y_pred == y)\n",
    "        \n",
    "    epoch_loss = running_loss / len(train_init_loader.dataset)\n",
    "    logs['log loss'] = epoch_loss.item()\n",
    "    epoch_acc = running_corrects.float() / len(train_init_loader.dataset)\n",
    "    logs['accuracy'] = epoch_acc.item()\n",
    "    \n",
    "    liveloss.update(logs)\n",
    "    liveloss.draw()"
   ],
   "metadata": {
    "collapsed": false,
    "pycharm": {
     "name": "#%%\n",
     "is_executing": false
    }
   }
  },
  {
   "cell_type": "code",
   "execution_count": 40,
   "outputs": [],
   "source": [
    "liveloss = PlotLosses()"
   ],
   "metadata": {
    "collapsed": false,
    "pycharm": {
     "name": "#%%\n",
     "is_executing": false
    }
   }
  },
  {
   "cell_type": "code",
   "execution_count": 41,
   "outputs": [
    {
     "data": {
      "text/plain": "<Figure size 864x576 with 2 Axes>",
      "image/png": "[encoded data removed]"
     },
     "metadata": {
      "needs_background": "light"
     },
     "output_type": "display_data"
    },
    {
     "name": "stdout",
     "text": [
      "log loss:\n",
      "training   (min:    1.064, max:    1.146, cur:    1.064)\n",
      "validation (min:    1.106, max:    1.291, cur:    1.106)\n",
      "\n",
      "accuracy:\n",
      "training   (min:    0.396, max:    0.407, cur:    0.407)\n",
      "validation (min:    0.259, max:    0.259, cur:    0.259)\n"
     ],
     "output_type": "stream"
    }
   ],
   "source": [
    "epochs = 100\n",
    "\n",
    "data_loader = {'train':train_loader, 'validation':validation_loader}\n",
    "\n",
    "for epoch in range(epochs):  # loop over the dataset multiple times\n",
    "    \n",
    "    logs = {}\n",
    "    for phase in ['train', 'validation']:\n",
    "        if phase == 'train':\n",
    "            model.train()\n",
    "        else:\n",
    "            model.eval()\n",
    "\n",
    "        running_loss = 0.0\n",
    "        running_corrects = 0\n",
    "        for i, batch in enumerate(data_loader[phase]):\n",
    "            x, y = batch\n",
    "            # forward + backward + optimize\n",
    "            y_pred = model(x)\n",
    "            # compute loss\n",
    "            loss = criterion(y_pred, y)\n",
    "            \n",
    "            if phase == 'train':\n",
    "                # reset optimizer\n",
    "                optimizer.zero_grad()\n",
    "                # backward step\n",
    "                loss.backward()\n",
    "                # update weights\n",
    "                optimizer.step()\n",
    "            \n",
    "            # print statistics\n",
    "            _, y_pred = torch.max(y_pred.detach(), 1)\n",
    "            running_loss += loss.detach() * x.size(0)\n",
    "            running_corrects += torch.sum(y_pred == y)\n",
    "        \n",
    "        prefix = ''\n",
    "        if phase == 'validation':\n",
    "            prefix = 'val_'\n",
    "        \n",
    "        epoch_loss = running_loss / len(data_loader[phase].dataset)\n",
    "        logs[prefix + 'log loss'] = epoch_loss.item()\n",
    "        epoch_acc = running_corrects.float() / len(data_loader[phase].dataset)\n",
    "        logs[prefix + 'accuracy'] = epoch_acc.item()\n",
    "    \n",
    "    liveloss.update(logs)\n",
    "    liveloss.draw()"
   ],
   "metadata": {
    "collapsed": false,
    "pycharm": {
     "name": "#%%\n",
     "is_executing": false
    }
   }
  },
  {
   "cell_type": "code",
   "execution_count": null,
   "outputs": [],
   "source": [
    "model.eval()\n",
    "\n",
    "running_loss = 0.0\n",
    "running_corrects = 0\n",
    "for i, batch in enumerate(test_loader):\n",
    "    x, y = batch\n",
    "    y_pred = model(x)\n",
    "    _, y_pred = torch.max(y_pred.detach(), 1)\n",
    "    running_corrects += torch.sum(y_pred == y)\n",
    "\n",
    "acc = running_corrects.float() / len(data_loader[phase].dataset)\n",
    "print(acc)"
   ],
   "metadata": {
    "collapsed": false,
    "pycharm": {
     "name": "#%%\n"
    }
   }
  },
  {
   "cell_type": "markdown",
   "source": [
    "LSTM"
   ],
   "metadata": {
    "collapsed": false
   }
  },
  {
   "cell_type": "code",
   "execution_count": null,
   "outputs": [],
   "source": [
    "class LSTM(nn.Module):\n",
    "        \n",
    "    def __init__(self, input_size:int=32, sequence_length=50, output_size:int = 3):\n",
    "        super(LSTM, self).__init__()\n",
    "        self.rnn = nn.LSTM(input_size=input_size, hidden_size=10, num_layers=1)\n",
    "        self.rnn_out = sequence_length*10\n",
    "        self.fc1 = nn.Linear(self.rnn_out, 20)\n",
    "        self.fc2 = nn.Linear(20, output_size)\n",
    "        \n",
    "    def forward(self, x):\n",
    "        x = x.transpose(1, 2)\n",
    "        y, _ = self.rnn(x)\n",
    "        y = torch.sigmoid(y)\n",
    "        y = y.view(-1, self.rnn_out)\n",
    "        y = torch.sigmoid(self.fc1(y))\n",
    "        y = self.fc2(y)\n",
    "        return y"
   ],
   "metadata": {
    "collapsed": false,
    "pycharm": {
     "name": "#%%\n"
    }
   }
  },
  {
   "cell_type": "code",
   "execution_count": null,
   "outputs": [],
   "source": [
    "\n"
   ],
   "metadata": {
    "collapsed": false,
    "pycharm": {
     "name": "#%%\n"
    }
   }
  }
 ],
 "metadata": {
  "kernelspec": {
   "display_name": "Python 3",
   "language": "python",
   "name": "python3"
  },
  "language_info": {
   "codemirror_mode": {
    "name": "ipython",
    "version": 3
   },
   "file_extension": ".py",
   "mimetype": "text/x-python",
   "name": "python",
   "nbconvert_exporter": "python",
   "pygments_lexer": "ipython3",
   "version": "3.7.4"
  },
  "pycharm": {
   "stem_cell": {
    "cell_type": "raw",
    "source": [],
    "metadata": {
     "collapsed": false
    }
   }
  }
 },
 "nbformat": 4,
 "nbformat_minor": 4
}