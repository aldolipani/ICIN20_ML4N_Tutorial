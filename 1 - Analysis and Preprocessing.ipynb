{
 "cells": [
  {
   "cell_type": "markdown",
   "metadata": {},
   "source": [
    "In this notebook you will learn, how to process the data\n",
    "\n",
    "Before starting this tutorial we need to install the following packages:"
   ]
  },
  {
   "cell_type": "code",
   "execution_count": 4,
   "metadata": {
    "pycharm": {
     "is_executing": false
    }
   },
   "outputs": [
    {
     "name": "stdout",
     "text": [
      "Requirement already satisfied: pandas==1.0 in /Users/ucaclip/opt/anaconda3/envs/ml4n/lib/python3.6/site-packages (1.0.0)\r\n",
      "Requirement already satisfied: python-dateutil>=2.6.1 in /Users/ucaclip/opt/anaconda3/envs/ml4n/lib/python3.6/site-packages (from pandas==1.0) (2.8.1)\r\n",
      "Requirement already satisfied: pytz>=2017.2 in /Users/ucaclip/opt/anaconda3/envs/ml4n/lib/python3.6/site-packages (from pandas==1.0) (2019.3)\r\n",
      "Requirement already satisfied: numpy>=1.13.3 in /Users/ucaclip/opt/anaconda3/envs/ml4n/lib/python3.6/site-packages (from pandas==1.0) (1.18.1)\r\n",
      "Requirement already satisfied: six>=1.5 in /Users/ucaclip/opt/anaconda3/envs/ml4n/lib/python3.6/site-packages (from python-dateutil>=2.6.1->pandas==1.0) (1.14.0)\r\n"
     ],
     "output_type": "stream"
    }
   ],
   "source": [
    "!pip install pandas==1.0"
   ]
  },
  {
   "cell_type": "code",
   "execution_count": 53,
   "metadata": {
    "pycharm": {
     "is_executing": false
    }
   },
   "outputs": [],
   "source": [
    "import pandas as pd"
   ]
  },
  {
   "cell_type": "code",
   "execution_count": 68,
   "metadata": {
    "pycharm": {
     "is_executing": false
    }
   },
   "outputs": [
    {
     "data": {
      "text/plain": "             count  L1-dcache-load-misses  L1-dcache-loads  L1-dcache-stores  \\\n0         0.100511               19999213         11998454           8001342   \n1         0.200781               19999478         11999135           8000584   \n2         0.300991               19999033         14665518           8000353   \n3         0.401192               19998370         15999038           8000226   \n4         0.501429               19996265         16796911           8000397   \n...            ...                    ...              ...               ...   \n29962  3004.476983               19282807         19282276           7713106   \n29963  3004.577218               19282759         19282300           7713116   \n29964  3004.677475               19282783         19282324           7713125   \n29965  3004.777715               19282807         19282348           7713135   \n29966  3004.877958               19282831         19282372           7713145   \n\n       L1-icache-load-misses  LLC-load-misses  LLC-loads  LLC-store-misses  \\\n0                    8001135          7999115    7996750          11999962   \n1                    8001068          7999564    7997440          12001507   \n2                    8000761          7999648    7997785          12001389   \n3                    8000546          7999708    7998270          12001384   \n4                    8000439          7999808    7997970          12001452   \n...                      ...              ...        ...               ...   \n29962                7713113          7713105    7713108          11569709   \n29963                7713122          7713115    7713118          11569724   \n29964                7713132          7713124    7713127          11569738   \n29965                7713141          7713134    7713137          11569752   \n29966                7713151          7713143    7713146          11569767   \n\n       LLC-stores  branch-load-misses  ...  instructions  minor-faults  \\\n0         7998183            16344141  ...       8340541     100354866   \n1         7999702            17366831  ...       8331237     100321966   \n2         7999775            18244400  ...       8916980     100284297   \n3         8000569            18683478  ...       9687586     100262916   \n4         8000352            18946698  ...      10150192     100252702   \n...           ...                 ...  ...           ...           ...   \n29962     7713112            19283225  ...      11569796     100271050   \n29963     7713122            19283249  ...      11569811     100271049   \n29964     7713132            19283226  ...      11569825     100271048   \n29965     7713141            19283125  ...      11569839     100271047   \n29966     7713151            19283024  ...      11569854     100271046   \n\n       node-load-misses  node-loads  node-store-misses  node-stores  \\\n0              16002922    16003216            7996902      5705381   \n1              16002225    16000822            6985804      4988794   \n2              16001412    15394969            6061652      5332596   \n3              15596910    14596593            5999192      5999318   \n4              14924780    14124129            6399257      6399861   \n...                 ...         ...                ...          ...   \n29962          15426214    15426220            7713117      7713107   \n29963          15426233    15426239            7713126      7713117   \n29964          15426252    15426258            7713136      7713126   \n29965          15426271    15426277            7713145      7713136   \n29966          15426291    15426296            7713155      7713146   \n\n       page-faults  ref-cycles  task-clock  label  \n0        100354106    20000784   100353081      2  \n1        100321232    19998845   100320492      2  \n2        100283816    19999677   100283326      2  \n3        100262536    19999359   100262171      2  \n4        100252509    19997771   100252340      2  \n...            ...         ...         ...    ...  \n29962    100271050    19283017   100271050      1  \n29963    100271048    19282915   100271048      1  \n29964    100271048    19282860   100271048      1  \n29965    100271047    19282884   100271047      1  \n29966    100271046    19282907   100271046      1  \n\n[29967 rows x 33 columns]",
      "text/html": "<div>\n<style scoped>\n    .dataframe tbody tr th:only-of-type {\n        vertical-align: middle;\n    }\n\n    .dataframe tbody tr th {\n        vertical-align: top;\n    }\n\n    .dataframe thead th {\n        text-align: right;\n    }\n</style>\n<table border=\"1\" class=\"dataframe\">\n  <thead>\n    <tr style=\"text-align: right;\">\n      <th></th>\n      <th>count</th>\n      <th>L1-dcache-load-misses</th>\n      <th>L1-dcache-loads</th>\n      <th>L1-dcache-stores</th>\n      <th>L1-icache-load-misses</th>\n      <th>LLC-load-misses</th>\n      <th>LLC-loads</th>\n      <th>LLC-store-misses</th>\n      <th>LLC-stores</th>\n      <th>branch-load-misses</th>\n      <th>...</th>\n      <th>instructions</th>\n      <th>minor-faults</th>\n      <th>node-load-misses</th>\n      <th>node-loads</th>\n      <th>node-store-misses</th>\n      <th>node-stores</th>\n      <th>page-faults</th>\n      <th>ref-cycles</th>\n      <th>task-clock</th>\n      <th>label</th>\n    </tr>\n  </thead>\n  <tbody>\n    <tr>\n      <th>0</th>\n      <td>0.100511</td>\n      <td>19999213</td>\n      <td>11998454</td>\n      <td>8001342</td>\n      <td>8001135</td>\n      <td>7999115</td>\n      <td>7996750</td>\n      <td>11999962</td>\n      <td>7998183</td>\n      <td>16344141</td>\n      <td>...</td>\n      <td>8340541</td>\n      <td>100354866</td>\n      <td>16002922</td>\n      <td>16003216</td>\n      <td>7996902</td>\n      <td>5705381</td>\n      <td>100354106</td>\n      <td>20000784</td>\n      <td>100353081</td>\n      <td>2</td>\n    </tr>\n    <tr>\n      <th>1</th>\n      <td>0.200781</td>\n      <td>19999478</td>\n      <td>11999135</td>\n      <td>8000584</td>\n      <td>8001068</td>\n      <td>7999564</td>\n      <td>7997440</td>\n      <td>12001507</td>\n      <td>7999702</td>\n      <td>17366831</td>\n      <td>...</td>\n      <td>8331237</td>\n      <td>100321966</td>\n      <td>16002225</td>\n      <td>16000822</td>\n      <td>6985804</td>\n      <td>4988794</td>\n      <td>100321232</td>\n      <td>19998845</td>\n      <td>100320492</td>\n      <td>2</td>\n    </tr>\n    <tr>\n      <th>2</th>\n      <td>0.300991</td>\n      <td>19999033</td>\n      <td>14665518</td>\n      <td>8000353</td>\n      <td>8000761</td>\n      <td>7999648</td>\n      <td>7997785</td>\n      <td>12001389</td>\n      <td>7999775</td>\n      <td>18244400</td>\n      <td>...</td>\n      <td>8916980</td>\n      <td>100284297</td>\n      <td>16001412</td>\n      <td>15394969</td>\n      <td>6061652</td>\n      <td>5332596</td>\n      <td>100283816</td>\n      <td>19999677</td>\n      <td>100283326</td>\n      <td>2</td>\n    </tr>\n    <tr>\n      <th>3</th>\n      <td>0.401192</td>\n      <td>19998370</td>\n      <td>15999038</td>\n      <td>8000226</td>\n      <td>8000546</td>\n      <td>7999708</td>\n      <td>7998270</td>\n      <td>12001384</td>\n      <td>8000569</td>\n      <td>18683478</td>\n      <td>...</td>\n      <td>9687586</td>\n      <td>100262916</td>\n      <td>15596910</td>\n      <td>14596593</td>\n      <td>5999192</td>\n      <td>5999318</td>\n      <td>100262536</td>\n      <td>19999359</td>\n      <td>100262171</td>\n      <td>2</td>\n    </tr>\n    <tr>\n      <th>4</th>\n      <td>0.501429</td>\n      <td>19996265</td>\n      <td>16796911</td>\n      <td>8000397</td>\n      <td>8000439</td>\n      <td>7999808</td>\n      <td>7997970</td>\n      <td>12001452</td>\n      <td>8000352</td>\n      <td>18946698</td>\n      <td>...</td>\n      <td>10150192</td>\n      <td>100252702</td>\n      <td>14924780</td>\n      <td>14124129</td>\n      <td>6399257</td>\n      <td>6399861</td>\n      <td>100252509</td>\n      <td>19997771</td>\n      <td>100252340</td>\n      <td>2</td>\n    </tr>\n    <tr>\n      <th>...</th>\n      <td>...</td>\n      <td>...</td>\n      <td>...</td>\n      <td>...</td>\n      <td>...</td>\n      <td>...</td>\n      <td>...</td>\n      <td>...</td>\n      <td>...</td>\n      <td>...</td>\n      <td>...</td>\n      <td>...</td>\n      <td>...</td>\n      <td>...</td>\n      <td>...</td>\n      <td>...</td>\n      <td>...</td>\n      <td>...</td>\n      <td>...</td>\n      <td>...</td>\n      <td>...</td>\n    </tr>\n    <tr>\n      <th>29962</th>\n      <td>3004.476983</td>\n      <td>19282807</td>\n      <td>19282276</td>\n      <td>7713106</td>\n      <td>7713113</td>\n      <td>7713105</td>\n      <td>7713108</td>\n      <td>11569709</td>\n      <td>7713112</td>\n      <td>19283225</td>\n      <td>...</td>\n      <td>11569796</td>\n      <td>100271050</td>\n      <td>15426214</td>\n      <td>15426220</td>\n      <td>7713117</td>\n      <td>7713107</td>\n      <td>100271050</td>\n      <td>19283017</td>\n      <td>100271050</td>\n      <td>1</td>\n    </tr>\n    <tr>\n      <th>29963</th>\n      <td>3004.577218</td>\n      <td>19282759</td>\n      <td>19282300</td>\n      <td>7713116</td>\n      <td>7713122</td>\n      <td>7713115</td>\n      <td>7713118</td>\n      <td>11569724</td>\n      <td>7713122</td>\n      <td>19283249</td>\n      <td>...</td>\n      <td>11569811</td>\n      <td>100271049</td>\n      <td>15426233</td>\n      <td>15426239</td>\n      <td>7713126</td>\n      <td>7713117</td>\n      <td>100271048</td>\n      <td>19282915</td>\n      <td>100271048</td>\n      <td>1</td>\n    </tr>\n    <tr>\n      <th>29964</th>\n      <td>3004.677475</td>\n      <td>19282783</td>\n      <td>19282324</td>\n      <td>7713125</td>\n      <td>7713132</td>\n      <td>7713124</td>\n      <td>7713127</td>\n      <td>11569738</td>\n      <td>7713132</td>\n      <td>19283226</td>\n      <td>...</td>\n      <td>11569825</td>\n      <td>100271048</td>\n      <td>15426252</td>\n      <td>15426258</td>\n      <td>7713136</td>\n      <td>7713126</td>\n      <td>100271048</td>\n      <td>19282860</td>\n      <td>100271048</td>\n      <td>1</td>\n    </tr>\n    <tr>\n      <th>29965</th>\n      <td>3004.777715</td>\n      <td>19282807</td>\n      <td>19282348</td>\n      <td>7713135</td>\n      <td>7713141</td>\n      <td>7713134</td>\n      <td>7713137</td>\n      <td>11569752</td>\n      <td>7713141</td>\n      <td>19283125</td>\n      <td>...</td>\n      <td>11569839</td>\n      <td>100271047</td>\n      <td>15426271</td>\n      <td>15426277</td>\n      <td>7713145</td>\n      <td>7713136</td>\n      <td>100271047</td>\n      <td>19282884</td>\n      <td>100271047</td>\n      <td>1</td>\n    </tr>\n    <tr>\n      <th>29966</th>\n      <td>3004.877958</td>\n      <td>19282831</td>\n      <td>19282372</td>\n      <td>7713145</td>\n      <td>7713151</td>\n      <td>7713143</td>\n      <td>7713146</td>\n      <td>11569767</td>\n      <td>7713151</td>\n      <td>19283024</td>\n      <td>...</td>\n      <td>11569854</td>\n      <td>100271046</td>\n      <td>15426291</td>\n      <td>15426296</td>\n      <td>7713155</td>\n      <td>7713146</td>\n      <td>100271046</td>\n      <td>19282907</td>\n      <td>100271046</td>\n      <td>1</td>\n    </tr>\n  </tbody>\n</table>\n<p>29967 rows × 33 columns</p>\n</div>"
     },
     "metadata": {},
     "output_type": "execute_result",
     "execution_count": 68
    }
   ],
   "source": [
    "df = pd.read_csv('ps.csv')\n",
    "df"
   ]
  },
  {
   "cell_type": "code",
   "execution_count": 62,
   "outputs": [],
   "source": [],
   "metadata": {
    "collapsed": false,
    "pycharm": {
     "name": "#%%\n",
     "is_executing": false
    }
   }
  },
  {
   "cell_type": "code",
   "execution_count": 63,
   "outputs": [
    {
     "name": "stdout",
     "text": [
      "0 95 0 310\n",
      "1 95 310 620\n",
      "2 95 620 930\n",
      "3 95 930 1240\n",
      "4 95 1240 1550\n",
      "5 95 1550 1860\n",
      "6 95 1860 2170\n",
      "7 95 2170 2480\n",
      "8 95 2480 2790\n",
      "9 95 2790 3100\n",
      "10 95 3100 3410\n",
      "11 95 3410 3720\n",
      "12 95 3720 4030\n",
      "13 95 4030 4340\n",
      "14 95 4340 4650\n",
      "15 95 4650 4960\n",
      "16 95 4960 5270\n",
      "17 95 5270 5580\n",
      "18 95 5580 5890\n",
      "19 95 5890 6200\n",
      "20 95 6200 6510\n",
      "21 95 6510 6820\n",
      "22 95 6820 7130\n",
      "23 95 7130 7440\n",
      "24 95 7440 7750\n",
      "25 95 7750 8060\n",
      "26 95 8060 8370\n",
      "27 95 8370 8680\n",
      "28 95 8680 8990\n",
      "29 95 8990 9300\n",
      "30 95 9300 9610\n",
      "31 95 9610 9920\n",
      "32 95 9920 10230\n",
      "33 95 10230 10540\n",
      "34 95 10540 10850\n",
      "35 95 10850 11160\n",
      "36 95 11160 11470\n",
      "37 95 11470 11780\n",
      "38 95 11780 12090\n",
      "39 95 12090 12400\n",
      "40 95 12400 12710\n",
      "41 95 12710 13020\n",
      "42 95 13020 13330\n",
      "43 95 13330 13640\n",
      "44 95 13640 13950\n",
      "45 95 13950 14260\n",
      "46 95 14260 14570\n",
      "47 95 14570 14880\n",
      "48 95 14880 15190\n",
      "49 95 15190 15500\n",
      "50 95 15500 15810\n",
      "51 95 15810 16120\n",
      "52 95 16120 16430\n",
      "53 95 16430 16740\n",
      "54 95 16740 17050\n",
      "55 95 17050 17360\n",
      "56 95 17360 17670\n",
      "57 95 17670 17980\n",
      "58 95 17980 18290\n",
      "59 95 18290 18600\n",
      "60 95 18600 18910\n",
      "61 95 18910 19220\n",
      "62 95 19220 19530\n",
      "63 95 19530 19840\n",
      "64 95 19840 20150\n",
      "65 95 20150 20460\n",
      "66 95 20460 20770\n",
      "67 95 20770 21080\n",
      "68 95 21080 21390\n",
      "69 95 21390 21700\n",
      "70 95 21700 22010\n",
      "71 95 22010 22320\n",
      "72 95 22320 22630\n",
      "73 95 22630 22940\n",
      "74 95 22940 23250\n",
      "75 95 23250 23560\n",
      "76 95 23560 23870\n",
      "77 95 23870 24180\n",
      "78 95 24180 24490\n",
      "79 95 24490 24800\n",
      "80 95 24800 25110\n",
      "81 95 25110 25420\n",
      "82 95 25420 25730\n",
      "83 95 25730 26040\n",
      "84 95 26040 26350\n",
      "85 95 26350 26660\n",
      "86 95 26660 26970\n",
      "87 95 26970 27280\n",
      "88 95 27280 27590\n",
      "89 95 27590 27900\n",
      "90 95 27900 28210\n",
      "91 95 28210 28520\n",
      "92 95 28520 28830\n",
      "93 95 28830 29140\n",
      "94 95 29140 29450\n"
     ],
     "output_type": "stream"
    },
    {
     "name": "stderr",
     "text": [
      "/Users/ucaclip/opt/anaconda3/envs/ml4n/lib/python3.6/site-packages/ipykernel_launcher.py:5: SettingWithCopyWarning: \n",
      "A value is trying to be set on a copy of a slice from a DataFrame\n",
      "\n",
      "See the caveats in the documentation: https://pandas.pydata.org/pandas-docs/stable/user_guide/indexing.html#returning-a-view-versus-a-copy\n",
      "  \"\"\"\n",
      "/Users/ucaclip/opt/anaconda3/envs/ml4n/lib/python3.6/site-packages/pandas/core/series.py:1042: SettingWithCopyWarning: \n",
      "A value is trying to be set on a copy of a slice from a DataFrame\n",
      "\n",
      "See the caveats in the documentation: https://pandas.pydata.org/pandas-docs/stable/user_guide/indexing.html#returning-a-view-versus-a-copy\n",
      "  self._set_with(key, value)\n"
     ],
     "output_type": "stream"
    }
   ],
   "source": [],
   "metadata": {
    "collapsed": false,
    "pycharm": {
     "name": "#%%\n",
     "is_executing": false
    }
   }
  },
  {
   "cell_type": "code",
   "execution_count": 64,
   "outputs": [],
   "source": [],
   "metadata": {
    "collapsed": false,
    "pycharm": {
     "name": "#%%\n",
     "is_executing": false
    }
   }
  },
  {
   "cell_type": "code",
   "execution_count": 65,
   "outputs": [
    {
     "name": "stdout",
     "text": [
      "95\n"
     ],
     "output_type": "stream"
    }
   ],
   "source": [
    "print(len(rates))"
   ],
   "metadata": {
    "collapsed": false,
    "pycharm": {
     "name": "#%%\n",
     "is_executing": false
    }
   }
  },
  {
   "cell_type": "code",
   "execution_count": null,
   "outputs": [],
   "source": [
    "\n"
   ],
   "metadata": {
    "collapsed": false,
    "pycharm": {
     "name": "#%%\n"
    }
   }
  }
 ],
 "metadata": {
  "kernelspec": {
   "display_name": "Python 3",
   "language": "python",
   "name": "python3"
  },
  "language_info": {
   "codemirror_mode": {
    "name": "ipython",
    "version": 3
   },
   "file_extension": ".py",
   "mimetype": "text/x-python",
   "name": "python",
   "nbconvert_exporter": "python",
   "pygments_lexer": "ipython3",
   "version": "3.7.4"
  },
  "pycharm": {
   "stem_cell": {
    "cell_type": "raw",
    "source": [],
    "metadata": {
     "collapsed": false
    }
   }
  }
 },
 "nbformat": 4,
 "nbformat_minor": 4
}